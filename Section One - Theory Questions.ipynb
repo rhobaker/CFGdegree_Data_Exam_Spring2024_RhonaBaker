{
 "cells": [
  {
   "cell_type": "markdown",
   "metadata": {},
   "source": [
    "### Section 1: Theory Questions"
   ]
  },
  {
   "cell_type": "markdown",
   "metadata": {},
   "source": [
    "**1.1 In your own words, what does the role of a data scientist involve? (2 points)**"
   ]
  },
  {
   "cell_type": "markdown",
   "metadata": {},
   "source": [
    "A data scientist uses computer programming and statistical knowledge to gather and analyse often large quantities of data.  This is done to provide insights on trends and patterns found within it.  When the data scientist communicates their findings in a clear and concise way, this analysis can be used to improve decision-making within an organisation.  This often includes creating models using machine learning to predict future events, (e.g. the volume of sales or the number of customers) or to make decisions (e.g. credit checks or which shares to buy)."
   ]
  },
  {
   "cell_type": "markdown",
   "metadata": {},
   "source": [
    "**1.2 What is an outlier?**\\\n",
    "**Here we expect to see the following:**\\\n",
    "**a. Definition**\\\n",
    "**b. Examples**\\\n",
    "**c. Should outliers always be removed? Why?**\\\n",
    "**d. What are other possible issues that you can find in a dataset? (4 points)**"
   ]
  },
  {
   "cell_type": "markdown",
   "metadata": {},
   "source": [
    "a) An outlier is an observation in a data set that is unusually bigger or smaller than the other observations, so it stands out when the data set is investigated.  It can have an effect on some statistical measures, such as the mean and correlations, so must be investigated before these measures are used.\n",
    "\n",
    "b) An example would be a person with a height of 2 metres in a dataset of heights, where the next tallest person is 1.8 metres.  The observation may be correct and person is just very tall, or it may be caused by a measurement or recording error.  Another example would be a very low price in a dataset of house prices.  It may be caused by a house in a very poor state of repair being very cheap, or a digit may have been lost when recording the price.\n",
    "\n",
    "c) Outliers should be removed if, after investigation, they are found to be caused by an error in measuring or recording the amount.  This is done as it may cause any analysis to be incorrect.  If however, the observation is correct and part of the population then it should be left in as it is a valid reading and will be an important part of the analysis.\n",
    "\n",
    "d) Other issues that can be found in a dataset include duplicated observations, missing records in some of the variables e.g. people may not record their weight, or a biased sample where the data does not fully reflect the population it has been taken from.\n",
    "\n",
    "REFERENCE: https://www.geeksforgeeks.org/detect-and-remove-the-outliers-using-python/"
   ]
  },
  {
   "cell_type": "markdown",
   "metadata": {},
   "source": [
    "**1.3 Describe the concepts of data cleaning and data quality.**\\\n",
    "**Here we expect to see the following:**\\\n",
    "**a. What is data cleaning?**\\\n",
    "**b. Why is data cleaning important?**\\\n",
    "**c. What type of mistakes do we expect to commonly see in datasets? (4 points)**"
   ]
  },
  {
   "cell_type": "markdown",
   "metadata": {},
   "source": [
    "a) Data cleaning is the process of checking and updating raw data before it is used, to ensure that it is as complete and accurate as possible.  This is done so it meets the data quality standards needed, meaning it is accurate enough for its intended use in data analysis or for a machine learning model.  This ensures any output is reliable and can be used for decision making.\n",
    "\n",
    "b) Data cleaning is important because it ensures that any conclusions drawn from the analysis of the data are accurate and not impacted by errors or duplicated records.  It is also be important if the data is used for a machine learning model, where unclean data could train the model incorrectly.\n",
    "\n",
    "c)  The types of mistakes that are commonly seen include:\n",
    "- Part of an observation is missing e.g. the temperature has not been input for a weather reading.\n",
    "- There are duplicate records of the same observation e.g. one sale of pizzas has been recorded twice.\n",
    "- There are inconsistencies in the data e.g. some heights in metres and some in feet.\n",
    "- Incorrect records have been included e.g. the medical records of a dog included in an analysis of cat health.\n",
    "- Data has been mislabeled e.g. number of bedrooms mislabelled as bathrooms in a housing data set.\n",
    "\n",
    "REFERENCE: https://www.geeksforgeeks.org/data-cleansing-introduction/"
   ]
  },
  {
   "cell_type": "markdown",
   "metadata": {},
   "source": [
    "**1.4 Discuss what is Unsupervised Learning - Clustering in Machine Learning using an example.**\\\n",
    "**Here we expect to see the following:**\\\n",
    "**a. Definition.**\\\n",
    "**b. When is it used?**\\\n",
    "**c. What is a possible real-world application of unsupervised learning?**\\\n",
    "**d. What are its main limitations? (7.5 points)**"
   ]
  },
  {
   "cell_type": "markdown",
   "metadata": {},
   "source": [
    "a) Clustering is used in unsupervised machine learning to sort data into classes based on similarities within groups and differences between them.  As it is unsupervised, it doesn't need labelled data, instead it groups observations with the highest similarities together and so can be used to give structure to unlabelled data.  This allows better decisions to be taken based on it.  Clustering can also be used to identify outliers that are not within the general clusters that require further analysis.  There are a number of different algorithms that can be used to do clustering, such as K-Means, MeanShift and hierarchical clustering.\n",
    "\n",
    "b) It is often used when there is a large volume of data which is unstructured and with many variables.  Clustering allows this data to be simplified, making it easier to analyse and understand.  Examples include segmenting customers of a business to target marketing campaigns, segmenting social media users to target advertising, detecting patterns of fraud in banking institutions and in image recognition software, where similarities in images are used to identify different objects.\n",
    "\n",
    "c)  A possible real-world application of unsupervised learning would be in customer segmentation for a chain of coffee shops.  This could be done by modelling the data into clusters based on variables such as the time of day of the visit, the products bought, how profitable they are and how long the customer stayed in the shop. The cluster analysis could identify segments such as people on the way to work early in the morning, parents with young children in the late morning, retired people at lunch time and school aged children on their way home in the afternoon.   This could then be used to understand who to target marketing campaigns at to increase sales and profitability.\n",
    "\n",
    "d) The limitations of clustering include:\n",
    "- it being hard to work out the optimum number of clusters, which is needed for some algorithms.\n",
    "- it can give complicated results, that can be hard to interpret.\n",
    "- it may oversimplify very complicated datasets and lose some of the important aspects of it.\n",
    "\n",
    "\n",
    "REFERENCE: https://www.datacamp.com/blog/clustering-in-machine-learning-5-essential-clustering-algorithms"
   ]
  },
  {
   "cell_type": "markdown",
   "metadata": {},
   "source": [
    "**1.5 Discuss what is Supervised Learning - Classification in Machine Learning using an example.**\\\n",
    "**Here we expect to see the following:**\\\n",
    "**a. Definition.**\\\n",
    "**b. When is it used?**\\\n",
    "**c. What is a possible real-world application of supervised learning?**\\\n",
    "**d. What data do we need for it? Is there any processing that needs to be done?**"
   ]
  },
  {
   "cell_type": "markdown",
   "metadata": {},
   "source": [
    "a) Classification is a technique used in supervised machine learning to train a model to predict a target variable, based on labelled input data e.g. if someone has diabetes, if they will default on a loan, if a transaction is fraudulent.  It is often used to predict a binary categorical target variable e.g. yes or no, true or false, using logistic regression, but can also be used for multiple categorical variables e.g. red, blue or yellow, using algorithms such as random forest and K-nearest neighbours.\n",
    "\n",
    "b)  It is used when labelled data is available on past observations that can be used to train a machine learning model to be applied to future data, making predictions based on it.  It works best when there is a clearly defined problem and a clearly defined target variable to predict.  The model should be tested to ensure it has a high level of prediction accuracy before it is used.\n",
    "\n",
    "c) This type of model could be used in classifying e-mails by an e-mail programme.  The target variable is whether or not an incoming e-mail is spam or not.  The model could be trained using data of previous e-mails, labelling them as \"spam\" or \"not spam\" and this would be used to train a model to determine whether or not to move an e-mail into the spam folder when it is received.\n",
    "\n",
    "d)  Classification needs accurate data that has been cleaned to update or remove missing values, duplicate entries or incorrect records.  The data will also need to be split into testing and training data, with a split such as 80% training and 20% testing, to check the accuracy of the model after it has been produced.  The data also needs to be numerical for the model to work, so techniques such as one-hot encoding may be needed to turn categorical data into numeric data for the analysis to be performed.  Irrelevant data may also need to be removed to ensure the dataset being used is relevant to the defined problem.\n",
    "\n",
    "REFERENCE: https://www.datacamp.com/blog/classification-machine-learning\n"
   ]
  }
 ],
 "metadata": {
  "language_info": {
   "name": "python"
  }
 },
 "nbformat": 4,
 "nbformat_minor": 2
}
